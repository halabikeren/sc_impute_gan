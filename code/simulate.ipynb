{
 "cells": [
  {
   "cell_type": "code",
   "execution_count": 6,
   "id": "4d434460-75a7-4544-a793-14f6d91a4607",
   "metadata": {},
   "outputs": [],
   "source": [
    "sergio_dir = \"/groups/itay_mayrose/halabikeren/programs/SERGIO/\""
   ]
  },
  {
   "cell_type": "code",
   "execution_count": 7,
   "id": "fdd096a2-fa87-4c78-bb1c-830f36fc9790",
   "metadata": {},
   "outputs": [],
   "source": [
    "import numpy as np\n",
    "import pandas as pd\n",
    "import networkx as nx\n",
    "import scipy\n",
    "import os\n",
    "\n",
    "import sys\n",
    "sys.path.append(sergio_dir)\n",
    "from SERGIO.sergio import sergio"
   ]
  },
  {
   "cell_type": "code",
   "execution_count": 8,
   "id": "d6bf5983-f08e-4a1d-bc08-e1455b4c74f3",
   "metadata": {},
   "outputs": [],
   "source": [
    "def get_expr_with_noise(expr, sim, dropout_percentile):\n",
    "    \"\"\"\n",
    "    Add outlier genes\n",
    "    \"\"\"\n",
    "    expr_O = sim.outlier_effect(expr, outlier_prob = 0.01, mean = 0.8, scale = 1)\n",
    "\n",
    "    \"\"\"\n",
    "    Add Library Size Effect\n",
    "    \"\"\"\n",
    "    libFactor, expr_O_L = sim.lib_size_effect(expr_O, mean = 4.6, scale = 0.4)\n",
    "\n",
    "    \"\"\"\n",
    "    Add Dropouts\n",
    "    \"\"\"\n",
    "    binary_ind = sim.dropout_indicator(expr_O_L, shape = 6.5, percentile = dropout_percentile)\n",
    "    expr_O_L_D = np.multiply(binary_ind, expr_O_L)\n",
    "\n",
    "    \"\"\"\n",
    "    Convert to UMI count\n",
    "    \"\"\"\n",
    "    count_matrix_wo_dropouts = sim.convert_to_UMIcounts(expr_O_L)\n",
    "    count_matrix_w_dropouts = sim.convert_to_UMIcounts(expr_O_L_D)\n",
    "\n",
    "    \"\"\"\n",
    "    Make a 2d gene expression matrix\n",
    "    \"\"\"\n",
    "    count_matrix_wo_dropouts = np.concatenate(count_matrix_wo_dropouts, axis = 1)\n",
    "    count_matrix_w_dropouts = np.concatenate(count_matrix_w_dropouts, axis = 1)\n",
    "       \n",
    "    return count_matrix_wo_dropouts, count_matrix_w_dropouts"
   ]
  },
  {
   "cell_type": "code",
   "execution_count": 9,
   "id": "23792414-52ff-4f87-9b17-9dd37cf407df",
   "metadata": {
    "tags": []
   },
   "outputs": [],
   "source": [
    "ngenes = 100\n",
    "ncell_types = 3\n",
    "ds_name = \"De-noised_400G_9T_300cPerT_5_DS2\"\n",
    "input_file_taregts = f'{sergio_dir}data_sets/{ds_name}/Interaction_cID_5.txt'\n",
    "input_file_regs=f'{sergio_dir}data_sets/{ds_name}/Regs_cID_5.txt'\n",
    "if ngenes == 100:\n",
    "    if ncell_types == 9:\n",
    "        ds_name = \"De-noised_100G_9T_300cPerT_4_DS1\"\n",
    "        input_file_taregts = f'{sergio_dir}data_sets/{ds_name}/Interaction_cID_4.txt' \n",
    "        input_file_regs=f'{sergio_dir}data_sets/{ds_name}/Regs_cID_4.txt'\n",
    "    elif ncell_types == 3:\n",
    "        ds_name = \"De-noised_100G_3T_300cPerT_dynamics_8_DS8\"\n",
    "        input_file_taregts = f'{sergio_dir}data_sets/{ds_name}/Interaction_cID_8.txt' \n",
    "        input_file_regs=f'{sergio_dir}data_sets/{ds_name}/Regs_cID_8.txt'\n",
    "\n",
    "n_cells = 50\n",
    "sampling_state = 15\n",
    "noise_params_options = [1,1.5,2]\n",
    "noise_type_options = [\"dpd\", \"sp\", \"dpd\"]\n",
    "decays_options = [0.6, 0.8, 1]\n",
    "dropout_percentiles = [20, 40, 60]\n",
    "\n",
    "output_dir = f\"../data/simulations/{ds_name}_{len(noise_params_options)}_tech_partitions/\"\n",
    "os.makedirs(output_dir, exist_ok=True)"
   ]
  },
  {
   "cell_type": "code",
   "execution_count": 10,
   "id": "504b9ab8-d8f6-4bb3-9c2b-6d99876c4560",
   "metadata": {},
   "outputs": [
    {
     "name": "stdout",
     "output_type": "stream",
     "text": [
      "Start simulating new level\n",
      "There are 3 genes to simulate in this layer\n",
      "Done with current level\n",
      "Start simulating new level\n",
      "There are 7 genes to simulate in this layer\n",
      "Done with current level\n",
      "Start simulating new level\n",
      "There are 90 genes to simulate in this layer\n",
      "Done with current level\n"
     ]
    }
   ],
   "source": [
    "sim1 = sergio(number_genes=ngenes, number_bins = ncell_types, number_sc = n_cells, noise_params = noise_params_options[0], decays=decays_options[0], sampling_state=sampling_state, noise_type=noise_type_options[0])\n",
    "sim1.build_graph(input_file_taregts =input_file_taregts, input_file_regs=input_file_regs, shared_coop_state=2)\n",
    "sim1.simulate()\n",
    "expr1 = sim1.getExpressions() #This returns a 3d numpy array (#cell_types * #genes * #cells_per_type)\n",
    "count_matrix1_wo_dropouts, count_matrix1_w_dropouts = get_expr_with_noise(expr=expr1,\n",
    "                    sim=sim1,\n",
    "                    dropout_percentile=dropout_percentiles[0])\n",
    "cell_type_labels1 = pd.Series(np.array([[f\"cell_{i}\"]*n_cells for i in range(ncell_types)]).flatten())\n",
    "technology_labels1 = pd.Series(np.repeat(f\"tech_1\", len(cell_type_labels1)))\n",
    "count_matrix1_wo_dropouts = pd.DataFrame(count_matrix1_wo_dropouts, \n",
    "             index=[f\"gene_{i}\" for i in range(count_matrix1_wo_dropouts.shape[0])],\n",
    "             columns=[f\"cell_t1_{i}\" for i in range(count_matrix1_wo_dropouts.shape[1])])\n",
    "count_matrix1_w_dropouts = pd.DataFrame(count_matrix1_w_dropouts, \n",
    "             index=[f\"gene_{i}\" for i in range(count_matrix1_w_dropouts.shape[0])],\n",
    "             columns=[f\"cell_t1_{i}\" for i in range(count_matrix1_w_dropouts.shape[1])])"
   ]
  },
  {
   "cell_type": "code",
   "execution_count": 11,
   "id": "01118b91-990c-4058-bff6-172c15f8950e",
   "metadata": {},
   "outputs": [
    {
     "name": "stdout",
     "output_type": "stream",
     "text": [
      "Start simulating new level\n",
      "There are 3 genes to simulate in this layer\n",
      "Done with current level\n",
      "Start simulating new level\n",
      "There are 7 genes to simulate in this layer\n",
      "Done with current level\n",
      "Start simulating new level\n",
      "There are 90 genes to simulate in this layer\n",
      "Done with current level\n"
     ]
    }
   ],
   "source": [
    "sim2 = sergio(number_genes=ngenes, number_bins = ncell_types, number_sc = n_cells, noise_params = noise_params_options[1], decays=decays_options[1], sampling_state=sampling_state, noise_type=noise_type_options[1])\n",
    "sim2.build_graph(input_file_taregts=input_file_taregts, input_file_regs=input_file_regs, shared_coop_state=2)\n",
    "sim2.simulate()\n",
    "expr2 = sim2.getExpressions()\n",
    "count_matrix2_wo_dropouts, count_matrix2_w_dropouts = get_expr_with_noise(expr=expr2,\n",
    "                    sim=sim2,\n",
    "                    dropout_percentile=dropout_percentiles[1])\n",
    "cell_type_labels2 = pd.Series(np.array([[f\"cell_{i}\"]*n_cells for i in range(ncell_types)]).flatten())\n",
    "technology_labels2 = pd.Series(np.repeat(\"tech_2\", len(cell_type_labels2)))\n",
    "count_matrix2_wo_dropouts = pd.DataFrame(count_matrix2_wo_dropouts, \n",
    "             index=[f\"gene_{i}\" for i in range(count_matrix2_wo_dropouts.shape[0])],\n",
    "             columns=[f\"cell_t2_{i}\" for i in range(count_matrix2_wo_dropouts.shape[1])])\n",
    "count_matrix2_w_dropouts = pd.DataFrame(count_matrix2_w_dropouts, \n",
    "             index=[f\"gene_{i}\" for i in range(count_matrix2_w_dropouts.shape[0])],\n",
    "             columns=[f\"cell_t2_{i}\" for i in range(count_matrix2_w_dropouts.shape[1])])"
   ]
  },
  {
   "cell_type": "code",
   "execution_count": 12,
   "id": "81e71606-13a0-475c-86c1-19fa7f9be912",
   "metadata": {},
   "outputs": [
    {
     "name": "stdout",
     "output_type": "stream",
     "text": [
      "Start simulating new level\n",
      "There are 3 genes to simulate in this layer\n",
      "Done with current level\n",
      "Start simulating new level\n",
      "There are 7 genes to simulate in this layer\n",
      "Done with current level\n",
      "Start simulating new level\n",
      "There are 90 genes to simulate in this layer\n",
      "Done with current level\n"
     ]
    }
   ],
   "source": [
    "sim3 = sergio(number_genes=ngenes, number_bins = ncell_types, number_sc = n_cells, noise_params = noise_params_options[2], decays=decays_options[2], sampling_state=sampling_state, noise_type=noise_type_options[2])\n",
    "sim3.build_graph(input_file_taregts=input_file_taregts, input_file_regs=input_file_regs, shared_coop_state=2)\n",
    "sim3.simulate()\n",
    "expr3 = sim3.getExpressions()\n",
    "count_matrix3_wo_dropouts, count_matrix3_w_dropouts = get_expr_with_noise(expr=expr3,\n",
    "                    sim=sim3,\n",
    "                    dropout_percentile=dropout_percentiles[2])\n",
    "cell_type_labels3 = pd.Series(np.array([[f\"cell_{i}\"]*n_cells for i in range(ncell_types)]).flatten())\n",
    "technology_labels3 = pd.Series(np.repeat(\"tech_3\", len(cell_type_labels3)))\n",
    "count_matrix3_wo_dropouts = pd.DataFrame(count_matrix3_wo_dropouts, \n",
    "             index=[f\"gene_{i}\" for i in range(count_matrix3_wo_dropouts.shape[0])],\n",
    "             columns=[f\"cell_t3_{i}\" for i in range(count_matrix3_wo_dropouts.shape[1])])\n",
    "count_matrix3_w_dropouts = pd.DataFrame(count_matrix3_w_dropouts, \n",
    "             index=[f\"gene_{i}\" for i in range(count_matrix3_w_dropouts.shape[0])],\n",
    "             columns=[f\"cell_t3_{i}\" for i in range(count_matrix3_w_dropouts.shape[1])])"
   ]
  },
  {
   "cell_type": "code",
   "execution_count": 13,
   "id": "7ea3b27f-8d7e-4d85-997d-07d43e6f4c7f",
   "metadata": {},
   "outputs": [
    {
     "name": "stdout",
     "output_type": "stream",
     "text": [
      "# genes = 100\n",
      "# cells = 450\n",
      "# cells type labels = 450\n",
      "# technology labels = 450\n"
     ]
    }
   ],
   "source": [
    "count_matrix_wo_dropouts = pd.concat([count_matrix1_wo_dropouts, \n",
    "                                      count_matrix2_wo_dropouts, \n",
    "                                      count_matrix3_wo_dropouts], axis=1)\n",
    "count_matrix_wo_dropouts.index.rename(\"GENE_ID\", inplace=True)\n",
    "for c in count_matrix_wo_dropouts.columns:\n",
    "    count_matrix_wo_dropouts[c] = pd.to_numeric(count_matrix_wo_dropouts[c])\n",
    "count_matrix_wo_dropouts.to_csv(f\"{output_dir}count_matrix_wo_dropouts.tsv\", sep=\"\\t\")\n",
    "print(f\"# genes = {count_matrix_wo_dropouts.shape[0]:,}\")\n",
    "print(f\"# cells = {count_matrix_wo_dropouts.shape[1]:,}\")\n",
    "\n",
    "count_matrix_w_dropouts = pd.concat([count_matrix1_w_dropouts, \n",
    "                                      count_matrix2_w_dropouts, \n",
    "                                      count_matrix3_w_dropouts], axis=1)\n",
    "count_matrix_w_dropouts.index.rename(\"GENE_ID\", inplace=True)\n",
    "for c in count_matrix_w_dropouts.columns:\n",
    "    count_matrix_w_dropouts[c] = pd.to_numeric(count_matrix_w_dropouts[c])\n",
    "count_matrix_w_dropouts.to_csv(f\"{output_dir}count_matrix_w_dropouts.tsv\", sep=\"\\t\")\n",
    "\n",
    "cell_type_labels = pd.concat([cell_type_labels1, cell_type_labels2, cell_type_labels3])                    \n",
    "print(f\"# cells type labels = {cell_type_labels.shape[0]:,}\")\n",
    "cell_type_labels.to_csv(f\"{output_dir}cell_type_labels.txt\", index=False, header=False)\n",
    "with open(f\"{output_dir}cell_type_labels.txt\", \"r\") as f:\n",
    "    c=f.read()[:-1]\n",
    "with open(f\"{output_dir}cell_type_labels.txt\", \"w\") as f:\n",
    "    f.write(c)\n",
    "\n",
    "technology_labels = pd.concat([technology_labels1, technology_labels2, technology_labels3])                                                                                                \n",
    "print(f\"# technology labels = {technology_labels.shape[0]:,}\")\n",
    "technology_labels.to_csv(f\"{output_dir}technology_labels.txt\", index=False, header=False)\n",
    "with open(f\"{output_dir}technology_labels.txt\", \"r\") as f:\n",
    "    c=f.read()[:-1]\n",
    "with open(f\"{output_dir}technology_labels.txt\", \"w\") as f:\n",
    "    f.write(c)"
   ]
  },
  {
   "cell_type": "code",
   "execution_count": 14,
   "id": "66428db4-efad-4468-a10e-e8e062508d83",
   "metadata": {},
   "outputs": [],
   "source": [
    "def report_stats(count_matrix):\n",
    "    print(f\"maximal dropout rate across cells = {((count_matrix == 0).sum()/ count_matrix.shape[0]).max():,}\")\n",
    "    print(f\"minimal dropout rate across cells = {((count_matrix == 0).sum()/ count_matrix.shape[0]).min():,}\")"
   ]
  },
  {
   "cell_type": "code",
   "execution_count": 15,
   "id": "a1214373-ade0-4c26-a95c-eae7ca8e145b",
   "metadata": {},
   "outputs": [
    {
     "name": "stdout",
     "output_type": "stream",
     "text": [
      "maximal dropout rate across cells = 0.79\n",
      "minimal dropout rate across cells = 0.2\n"
     ]
    }
   ],
   "source": [
    "report_stats(count_matrix_wo_dropouts)"
   ]
  },
  {
   "cell_type": "code",
   "execution_count": 16,
   "id": "3c093e18-27ea-4207-a7ba-848e1516911a",
   "metadata": {},
   "outputs": [
    {
     "name": "stdout",
     "output_type": "stream",
     "text": [
      "maximal dropout rate across cells = 0.94\n",
      "minimal dropout rate across cells = 0.2\n"
     ]
    }
   ],
   "source": [
    "report_stats(count_matrix_w_dropouts)"
   ]
  },
  {
   "cell_type": "code",
   "execution_count": null,
   "id": "56d1c485-7d07-4d6b-8a59-7920b16e878c",
   "metadata": {},
   "outputs": [],
   "source": []
  }
 ],
 "metadata": {
  "kernelspec": {
   "display_name": "Python 3 (ipykernel)",
   "language": "python",
   "name": "python3"
  },
  "language_info": {
   "codemirror_mode": {
    "name": "ipython",
    "version": 3
   },
   "file_extension": ".py",
   "mimetype": "text/x-python",
   "name": "python",
   "nbconvert_exporter": "python",
   "pygments_lexer": "ipython3",
   "version": "3.10.6"
  }
 },
 "nbformat": 4,
 "nbformat_minor": 5
}
