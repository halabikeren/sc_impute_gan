{
 "cells": [
  {
   "cell_type": "code",
   "execution_count": 44,
   "id": "c4af161d-8d4a-4574-ac72-b6e61794218b",
   "metadata": {},
   "outputs": [],
   "source": [
    "from git import Repo\n",
    "import pandas as pd\n",
    "import numpy as np\n",
    "import gzip\n",
    "import os\n",
    "from collections import defaultdict\n",
    "from pybiomart import Server\n",
    "import shutil"
   ]
  },
  {
   "cell_type": "code",
   "execution_count": 45,
   "id": "9c810c9f-e76c-4ed4-bd95-7052651b38d0",
   "metadata": {},
   "outputs": [],
   "source": [
    "git_url = \"https://github.com/LuyiTian/sc_mixology.git\"\n",
    "repo_dir = f\"{os.getcwd()}../data/empirical_data/raw/\"\n",
    "raw_data_dir = f\"{repo_dir}/data/csv/\"\n",
    "relevant_cell_types = [\"H2228\", \"H1975\", \"HCC827\"]"
   ]
  },
  {
   "cell_type": "code",
   "execution_count": 5,
   "id": "e38fa340-c92d-4227-9e61-8fe32eb58bff",
   "metadata": {},
   "outputs": [
    {
     "data": {
      "text/plain": [
       "<git.repo.base.Repo '/groups/itay_mayrose/halabikeren/unsupervised_learning_final_project/data/empirical_data/raw/.git'>"
      ]
     },
     "execution_count": 5,
     "metadata": {},
     "output_type": "execute_result"
    }
   ],
   "source": [
    "# based on https://github.com/LuyiTian/sc_mixology\n",
    "Repo.clone_from(git_url, repo_dir)"
   ]
  },
  {
   "cell_type": "code",
   "execution_count": 4,
   "id": "6bb9fcf0-5d3d-418e-9774-dae32705b5a1",
   "metadata": {},
   "outputs": [],
   "source": [
    "relevant_paths = [f\"{raw_data_dir}{p}\" for p in os.listdir(raw_data_dir) if p.startswith(\"sc_\")]"
   ]
  },
  {
   "cell_type": "code",
   "execution_count": 46,
   "id": "971a8097-ae45-4d7e-9a09-4de98a37ed35",
   "metadata": {},
   "outputs": [],
   "source": [
    "data = defaultdict(dict)\n",
    "for path in relevant_paths:\n",
    "    technology = os.path.basename(path).replace(\"sc_\", \"\").split(\".\")[0].split(\"_\")[0]\n",
    "    data_type = os.path.basename(path).split(\".\")[1]\n",
    "    with gzip.open(path, 'rb') as f:\n",
    "        data[technology][data_type] = pd.read_csv(f)"
   ]
  },
  {
   "cell_type": "code",
   "execution_count": 47,
   "id": "feba094d-bb46-4f55-bd78-c56942a431f3",
   "metadata": {},
   "outputs": [
    {
     "name": "stdout",
     "output_type": "stream",
     "text": [
      "technology = 10x has 3,918 cells, 11,786 genes, and 63.01% dropout rate\n",
      "technology = celseq2 has 305 cells, 13,426 genes, and 64.27% dropout rate\n",
      "technology = dropseq has 225 cells, 15,127 genes, and 62.07% dropout rate\n"
     ]
    }
   ],
   "source": [
    "for technology in data:\n",
    "    perc_dropouts = (data[technology]['count'] == 0).sum().sum() / (data[technology]['count'].shape[0]*data[technology]['count'].shape[1])*100\n",
    "    print(f\"technology = {technology} has {data[technology]['count'].shape[1]:,} cells, {data[technology]['count'].shape[0]:,} genes, and {np.round(perc_dropouts,2)}% dropout rate\")"
   ]
  },
  {
   "cell_type": "code",
   "execution_count": 51,
   "id": "3a0d54fe-f830-4583-bc31-7ab6f75aef31",
   "metadata": {},
   "outputs": [],
   "source": [
    "# filter to relevsnt cell types\n",
    "for technology in data:\n",
    "    counts = data[technology]['count']\n",
    "    metadata = data[technology]['metadata']\n",
    "    metadata = metadata.loc[metadata.cell_line_demuxlet.isin(['HCC827', 'H1975', 'H2228'])]\n",
    "    counts = counts[metadata.index.tolist()] # no need to normalize, normalization will be done within scIGANs\n",
    "    data[technology]['count'] = counts\n",
    "    data[technology]['metadata'] = metadata"
   ]
  },
  {
   "cell_type": "code",
   "execution_count": 52,
   "id": "ae870f0a-061c-4b4b-8093-8a45138dcacd",
   "metadata": {},
   "outputs": [],
   "source": [
    "server = Server(host='http://www.ensembl.org')\n",
    "\n",
    "dataset = (server.marts['ENSEMBL_MART_ENSEMBL']\n",
    "                 .datasets['hsapiens_gene_ensembl'])\n",
    "gene_id_to_name_map = dataset.query(attributes=['ensembl_gene_id', 'external_gene_name'])"
   ]
  },
  {
   "cell_type": "code",
   "execution_count": 53,
   "id": "070909c5-9f68-4b30-97b9-5d098102d201",
   "metadata": {},
   "outputs": [],
   "source": [
    "for technology in data:\n",
    "    counts = data[technology]['count']\n",
    "    counts = counts.rename(index=gene_id_to_name_map.set_index(\"Gene stable ID\")[\"Gene name\"].to_dict())\n",
    "    counts = counts.loc[counts.index.notna()]\n",
    "    data[technology]['count'] = counts"
   ]
  },
  {
   "cell_type": "code",
   "execution_count": 54,
   "id": "2fc2d5d3-2b34-4743-8e41-239638befba2",
   "metadata": {},
   "outputs": [
    {
     "name": "stdout",
     "output_type": "stream",
     "text": [
      "# intersection genes = 9,305\n"
     ]
    }
   ],
   "source": [
    "# compute intersection genes\n",
    "intersection_genes = set(data['10x']['count'].index) & set(data['celseq2']['count'].index) & set(data['dropseq']['count'].index) \n",
    "print(f\"# intersection genes = {len(intersection_genes):,}\")"
   ]
  },
  {
   "cell_type": "code",
   "execution_count": 80,
   "id": "566b68d8-0549-4cb6-adbe-ebaa91391520",
   "metadata": {},
   "outputs": [
    {
     "name": "stdout",
     "output_type": "stream",
     "text": [
      "technology = 10x has 1,786 cells, 9,305 genes, and 55.7% dropout rate\n",
      "technology = celseq2 has 112 cells, 9,305 genes, and 53.53% dropout rate\n",
      "technology = dropseq has 225 cells, 9,305 genes, and 49.83% dropout rate\n"
     ]
    }
   ],
   "source": [
    "technologies = list(data.keys())\n",
    "full_counts = None\n",
    "cell_type_labels = None\n",
    "technology_labels = None\n",
    "for technology in data:\n",
    "    counts = data[technology]['count']\n",
    "    counts = counts.loc[counts.index.isin(intersection_genes)]\n",
    "    data[technology]['count'] = counts\n",
    "    metadata = data[technology]['metadata']\n",
    "    assert(\"cell_line_demuxlet\" in metadata.columns)\n",
    "    assert(metadata.shape[0] == counts.shape[1])\n",
    "    metadata[\"technology\"] = technology\n",
    "    perc_dropouts = (counts == 0).sum().sum() / (counts.shape[0]*counts.shape[1])*100\n",
    "    print(f\"technology = {technology} has {counts.shape[1]:,} cells, {counts.shape[0]:,} genes, and {np.round(perc_dropouts,2)}% dropout rate\")\n",
    "    if cell_type_labels is None:\n",
    "        cell_type_labels = metadata.cell_line_demuxlet\n",
    "    else:\n",
    "        cell_type_labels = pd.concat([cell_type_labels, metadata.cell_line_demuxlet])\n",
    "    if technology_labels is None:\n",
    "        technology_labels = metadata.technology\n",
    "    else:\n",
    "        technology_labels = pd.concat([technology_labels, metadata.technology])\n",
    "    if full_counts is None:\n",
    "        full_counts = counts\n",
    "    else:\n",
    "        full_counts = full_counts.join(counts)"
   ]
  },
  {
   "cell_type": "code",
   "execution_count": 64,
   "id": "a8fad0bb-ca7b-44c3-84c0-ae29c303d998",
   "metadata": {},
   "outputs": [
    {
     "name": "stdout",
     "output_type": "stream",
     "text": [
      "# total genes = 9,305, # total cells = 2,123\n",
      "% united dropout = 54.96%\n"
     ]
    }
   ],
   "source": [
    "perc_dropouts = (full_counts == 0).sum().sum() / (full_counts.shape[0]*full_counts.shape[1])*100\n",
    "print(f\"# total genes = {full_counts.shape[0]:,}, # total cells = {full_counts.shape[1]:,}\")\n",
    "print(f\"% united dropout = {np.round(perc_dropouts, 2)}%\")"
   ]
  },
  {
   "cell_type": "code",
   "execution_count": 65,
   "id": "1a39e05d-5644-464f-80ac-970de7ed1d0b",
   "metadata": {},
   "outputs": [],
   "source": [
    "full_counts.to_csv(\"../data/empirical_data/full_counts.csv\")"
   ]
  },
  {
   "cell_type": "code",
   "execution_count": 88,
   "id": "be079327-983e-4525-bbe1-4823419e7bfa",
   "metadata": {},
   "outputs": [
    {
     "name": "stderr",
     "output_type": "stream",
     "text": [
      "/groups/itay_mayrose/halabikeren/miniconda3/envs/scIGANs/lib/python3.7/site-packages/ipykernel_launcher.py:1: FutureWarning: The signature of `Series.to_csv` was aligned to that of `DataFrame.to_csv`, and argument 'header' will change its default value from False to True: please pass an explicit value to suppress this warning.\n",
      "  \"\"\"Entry point for launching an IPython kernel.\n"
     ]
    }
   ],
   "source": [
    "cell_type_labels.loc[full_counts.columns].to_csv(\"../data/empirical_data/cell_type_labels.csv\", index=False)"
   ]
  },
  {
   "cell_type": "code",
   "execution_count": 89,
   "id": "1999fc9e-8a9d-4ce0-bc3d-2b4ce2fc30bd",
   "metadata": {},
   "outputs": [
    {
     "name": "stderr",
     "output_type": "stream",
     "text": [
      "/groups/itay_mayrose/halabikeren/miniconda3/envs/scIGANs/lib/python3.7/site-packages/ipykernel_launcher.py:1: FutureWarning: The signature of `Series.to_csv` was aligned to that of `DataFrame.to_csv`, and argument 'header' will change its default value from False to True: please pass an explicit value to suppress this warning.\n",
      "  \"\"\"Entry point for launching an IPython kernel.\n"
     ]
    }
   ],
   "source": [
    "technology_labels.loc[full_counts.columns].to_csv(\"../data/empirical_data/technology_labels.csv\", index=False)"
   ]
  },
  {
   "cell_type": "code",
   "execution_count": null,
   "outputs": [],
   "source": [
    "shutil.rmtree(repo_dir)"
   ],
   "metadata": {
    "collapsed": false,
    "pycharm": {
     "name": "#%%\n"
    }
   }
  }
 ],
 "metadata": {
  "kernelspec": {
   "display_name": "Python 3",
   "language": "python",
   "name": "python3"
  },
  "language_info": {
   "codemirror_mode": {
    "name": "ipython",
    "version": 3
   },
   "file_extension": ".py",
   "mimetype": "text/x-python",
   "name": "python",
   "nbconvert_exporter": "python",
   "pygments_lexer": "ipython3",
   "version": "3.7.2"
  }
 },
 "nbformat": 4,
 "nbformat_minor": 5
}